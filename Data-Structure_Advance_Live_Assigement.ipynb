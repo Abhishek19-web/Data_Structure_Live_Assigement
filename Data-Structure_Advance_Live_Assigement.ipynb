{
 "cells": [
  {
   "cell_type": "code",
   "execution_count": 2,
   "id": "484cf3a9-ea76-4bfa-902b-775f779989ce",
   "metadata": {},
   "outputs": [
    {
     "name": "stdout",
     "output_type": "stream",
     "text": [
      "Original String: Hello, World!\n",
      "Reversed String: !dlroW ,olleH\n"
     ]
    }
   ],
   "source": [
    "# write a code to reverse a string in python\n",
    "\n",
    "original_string = \"Hello, World!\"\n",
    "reversed_string = ''\n",
    "\n",
    "for i in range(len(original_string) \""
   ]
  },
  {
   "cell_type": "code",
   "execution_count": 6,
   "id": "9a548ec3-2505-46c9-8104-b3e0239a7771",
   "metadata": {},
   "outputs": [
    {
     "name": "stdin",
     "output_type": "stream",
     "text": [
      "Please enter the Sentnece abhishek\n"
     ]
    },
    {
     "name": "stdout",
     "output_type": "stream",
     "text": [
      "abhishek\n",
      "Number of vowels in given Sentence 3\n"
     ]
    }
   ],
   "source": [
    "# write a program to count the number of vowels in a string.\n",
    "\n",
    "Sentence = input(\"Please enter the Sentnece\")\n",
    "String = Sentence.lower()\n",
    "print(String)\n",
    "count=0\n",
    "list1 = [\"a\",\"e\",\"i\",\"o\",\"u\"]\n",
    "for itr in String:\n",
    "    if itr in list1:\n",
    "        count = count + 1\n",
    "print(\"Number of vowels in given Sentence\",count)        "
   ]
  },
  {
   "cell_type": "code",
   "execution_count": 9,
   "id": "399638ff-d1ed-4abf-9a6f-46eb39d11a50",
   "metadata": {},
   "outputs": [
    {
     "name": "stdin",
     "output_type": "stream",
     "text": [
      "Please enter the Sentence 121\n"
     ]
    },
    {
     "name": "stdout",
     "output_type": "stream",
     "text": [
      "The Sentence is a palindrome.\n"
     ]
    }
   ],
   "source": [
    "# Write a code to check if a given string is a palindrome or not.\n",
    "Sentence = input(\"Please enter the Sentence\")\n",
    "rev_Sentence = reversed(Sentence)\n",
    "if list(Sentence) == list(rev_Sentence):\n",
    "   print(\"The Sentence is a palindrome.\")\n",
    "else:\n",
    "   print(\"The Sentence is not a palindrome.\")"
   ]
  },
  {
   "cell_type": "code",
   "execution_count": 2,
   "id": "3a352653-5ae5-4353-a171-1ce7cdc3ce41",
   "metadata": {},
   "outputs": [
    {
     "name": "stdout",
     "output_type": "stream",
     "text": [
      "True\n"
     ]
    }
   ],
   "source": [
    "# Write a code to check if two given strings are anagrams of each other\n",
    "\n",
    "def are_anagrams(str1, str2):\n",
    "    str1 = str1.replace(\" \", \"\").lower()\n",
    "    str2 = str2.replace(\" \", \"\").lower()\n",
    "    return sorted(str1) == sorted(str2)\n",
    "str1 = \"listen\"\n",
    "str2 = \"silent\"\n",
    "print(are_anagrams(str1, str2))"
   ]
  },
  {
   "cell_type": "code",
   "execution_count": 4,
   "id": "ffae4ac6-fb74-4cc8-adbd-ab90b15740c4",
   "metadata": {},
   "outputs": [
    {
     "name": "stdout",
     "output_type": "stream",
     "text": [
      "All occurrences of 'test' are at positions: [10, 26, 38]\n"
     ]
    }
   ],
   "source": [
    "# Write a code to find all occurrences of a given substring within another strings\n",
    "\n",
    "def find_all_occurrences(text, substring):\n",
    "    occurrences = []\n",
    "    start = 0\n",
    "\n",
    "    while True:\n",
    "        start = text.find(substring, start)\n",
    "        if start == -1:\n",
    "            break\n",
    "        occurrences.append(start)\n",
    "        start += len(substring)  \n",
    "\n",
    "    return occurrences\n",
    "\n",
    "text = \"This is a test string for testing the test string.\"\n",
    "substring = \"test\"\n",
    "result = find_all_occurrences(text, substring)\n",
    "print(f\"All occurrences of '{substring}' are at positions: {result}\")\n"
   ]
  },
  {
   "cell_type": "code",
   "execution_count": 2,
   "id": "9fc13130-15ab-42de-9bfb-1bb6000aa353",
   "metadata": {},
   "outputs": [
    {
     "name": "stdout",
     "output_type": "stream",
     "text": [
      "a2b1c5a3\n"
     ]
    }
   ],
   "source": [
    "# Write a code to perform basic string compression using the counts of repeated characters\n",
    "\n",
    "def compress_string(s):\n",
    "    compressed = []\n",
    "    count = 1\n",
    "    for i in range(1, len(s)):\n",
    "        if s[i] == s[i - 1]:\n",
    "            count += 1\n",
    "        else:\n",
    "            compressed.append(s[i - 1] + str(count))\n",
    "            count = 1\n",
    "\n",
    "    compressed.append(s[-1] + str(count))\n",
    "    compressed_string = ''.join(compressed)\n",
    "    return compressed_string if len(compressed_string) < len(s) else s\n",
    "input_string = \"aabcccccaaa\"\n",
    "compressed_output = compress_string(input_string)\n",
    "print(compressed_output) \n"
   ]
  },
  {
   "cell_type": "code",
   "execution_count": 3,
   "id": "90f7bad1-fcb9-4c64-86ed-2351c7a7487a",
   "metadata": {},
   "outputs": [
    {
     "name": "stdout",
     "output_type": "stream",
     "text": [
      "Does the string 'abcdef' have all unique characters? True\n"
     ]
    }
   ],
   "source": [
    "# write a code to determine if a string has all unique characters\n",
    "\n",
    "def has_unique_characters(s):\n",
    "    return len(s) == len(set(s))\n",
    "string = \"abcdef\"\n",
    "result = has_unique_characters(string)\n",
    "print(f\"Does the string '{string}' have all unique characters? {result}\")\n"
   ]
  },
  {
   "cell_type": "code",
   "execution_count": 4,
   "id": "3464f6c7-2f35-4b80-957b-01114bede39c",
   "metadata": {},
   "outputs": [
    {
     "name": "stdout",
     "output_type": "stream",
     "text": [
      "HELLO WORLD\n",
      "hello world\n"
     ]
    }
   ],
   "source": [
    "# Write a code to convert a given string to uppercase or lowercase\n",
    "\n",
    "def convert_case(string, to_upper=True):\n",
    "    if to_upper:\n",
    "        return string.upper()\n",
    "    else:\n",
    "        return string.lower()\n",
    "\n",
    "\n",
    "input_string = \"Hello World\"\n",
    "print(convert_case(input_string, to_upper=True)) \n",
    "print(convert_case(input_string, to_upper=False))\n"
   ]
  },
  {
   "cell_type": "code",
   "execution_count": 5,
   "id": "c5718edc-ab50-48fa-91fe-e6317f5e5ef0",
   "metadata": {},
   "outputs": [
    {
     "name": "stdout",
     "output_type": "stream",
     "text": [
      "Number of words: 9\n"
     ]
    }
   ],
   "source": [
    "# Write a code to count the number of words in a strings\n",
    "\n",
    "def count_words(string):\n",
    "    words = string.split()\n",
    "    return len(words) \n",
    "input_string = \"Hello, this is a sample string to count words.\"\n",
    "word_count = count_words(input_string)\n",
    "print(f\"Number of words: {word_count}\")\n"
   ]
  },
  {
   "cell_type": "code",
   "execution_count": 6,
   "id": "2f8c626b-c633-4838-9d17-a9ae2a2ab832",
   "metadata": {},
   "outputs": [
    {
     "name": "stdout",
     "output_type": "stream",
     "text": [
      "HelloWorld\n"
     ]
    }
   ],
   "source": [
    "# Write a code to concatenate two strings without using the + operator\n",
    "\n",
    "string1 = \"Hello\"\n",
    "string2 = \"World\"\n",
    "result = string1+string2\n",
    "print(result)\n"
   ]
  },
  {
   "cell_type": "code",
   "execution_count": 7,
   "id": "f8568055-b715-424b-a6b9-995715b59653",
   "metadata": {},
   "outputs": [
    {
     "name": "stdout",
     "output_type": "stream",
     "text": [
      "[1, 2, 4, 5]\n"
     ]
    }
   ],
   "source": [
    "# Write a code to remove all occurrences of a specific element from a list\n",
    "\n",
    "def remove_all_occurrences(lst, element):\n",
    "    return [item for item in lst if item != element]\n",
    "\n",
    "my_list = [1, 2, 3, 4, 3, 5, 3]\n",
    "element_to_remove = 3\n",
    "new_list = remove_all_occurrences(my_list, element_to_remove)\n",
    "print(new_list)\n"
   ]
  },
  {
   "cell_type": "code",
   "execution_count": 8,
   "id": "f48d7d20-bfb9-464e-8e10-9bfd0d03b010",
   "metadata": {},
   "outputs": [
    {
     "name": "stdout",
     "output_type": "stream",
     "text": [
      "The second largest number is: 20\n"
     ]
    }
   ],
   "source": [
    "# Impleplement a code to find the second largest number in a given list of integers\n",
    "\n",
    "def find_second_largest(nums):\n",
    "    if len(nums) < 2:\n",
    "        return None \n",
    "    \n",
    "    first = second = float('-inf')\n",
    "    \n",
    "    for num in nums:\n",
    "        if num > first:\n",
    "            second = first\n",
    "            first = num\n",
    "        elif first > num > second:\n",
    "            second = num\n",
    "    \n",
    "    return second if second != float('-inf') else None\n",
    "numbers = [10, 15, 20, 20, 25]\n",
    "second_largest = find_second_largest(numbers)\n",
    "print(\"The second largest number is:\", second_largest)\n"
   ]
  },
  {
   "cell_type": "code",
   "execution_count": 9,
   "id": "d772274e-8991-41b6-a4a6-a9d57fd7e83b",
   "metadata": {},
   "outputs": [
    {
     "name": "stdout",
     "output_type": "stream",
     "text": [
      "{'apple': 3, 'banana': 2, 'orange': 1}\n"
     ]
    }
   ],
   "source": [
    "# Create a code to count the occurrences of each element in a liat and return a dictionary with element as keys and their counts as value\n",
    "\n",
    "def count_occurrences(lst):\n",
    "    counts = {}\n",
    "    for element in lst:\n",
    "        if element in counts:\n",
    "            counts[element] += 1\n",
    "        else:\n",
    "            counts[element] = 1   \n",
    "    return counts\n",
    "my_list = ['apple', 'banana', 'apple', 'orange', 'banana', 'apple']\n",
    "result = count_occurrences(my_list)\n",
    "print(result)\n"
   ]
  },
  {
   "cell_type": "code",
   "execution_count": 10,
   "id": "44712b77-5dfd-4e5d-a2d7-db63470865ae",
   "metadata": {},
   "outputs": [
    {
     "name": "stdout",
     "output_type": "stream",
     "text": [
      "[5, 4, 3, 2, 1]\n"
     ]
    }
   ],
   "source": [
    "# Write a code to reverse a list in-place without using any built-in reverse function\n",
    "\n",
    "def reverse_list(lst):\n",
    "    left_index = 0\n",
    "    right_index = len(lst) - 1\n",
    "\n",
    "    while left_index < right_index:\n",
    "        lst[left_index], lst[right_index] = lst[right_index], lst[left_index]\n",
    "        left_index += 1\n",
    "        right_index -= 1\n",
    "my_list = [1, 2, 3, 4, 5]\n",
    "reverse_list(my_list)\n",
    "print(my_list)\n"
   ]
  },
  {
   "cell_type": "code",
   "execution_count": 12,
   "id": "1eaed3e7-a49c-45ad-83c1-6695f0abed0b",
   "metadata": {},
   "outputs": [
    {
     "name": "stdout",
     "output_type": "stream",
     "text": [
      "[1, 2, 3, 4, 5]\n"
     ]
    }
   ],
   "source": [
    "# Implement a code to find and remove duplicates from a list while preserving the orignal order of elements\n",
    "\n",
    "def remove_duplicates(lst):\n",
    "    seen = set()\n",
    "    result = []\n",
    "    for item in lst:\n",
    "        if item not in seen:\n",
    "            result.append(item)\n",
    "            seen.add(item)\n",
    "    return result\n",
    "\n",
    "\n",
    "my_list = [1, 2, 2, 3, 4, 4, 5]\n",
    "cleaned_list = remove_duplicates(my_list)\n",
    "print(cleaned_list)\n",
    "\n"
   ]
  },
  {
   "cell_type": "code",
   "execution_count": 1,
   "id": "ee7e8122-d2f0-40e2-b63e-3474d0de798b",
   "metadata": {},
   "outputs": [
    {
     "name": "stdout",
     "output_type": "stream",
     "text": [
      "True\n",
      "True\n",
      "False\n"
     ]
    }
   ],
   "source": [
    "# create a code to check if a given list is sorted (either in ascending or descending order) or not\n",
    "\n",
    "def is_sorted(lst):\n",
    "    if not lst:\n",
    "        return True \n",
    "    \n",
    "    ascending = all(lst[i] <= lst[i + 1] for i in range(len(lst) - 1))\n",
    "    descending = all(lst[i] >= lst[i + 1] for i in range(len(lst) - 1))\n",
    "    \n",
    "    return ascending or descending\n",
    "\n",
    "print(is_sorted([1, 2, 3, 4, 5])) \n",
    "print(is_sorted([5, 4, 3, 2, 1])) \n",
    "print(is_sorted([1, 3, 2, 4, 5])) \n"
   ]
  },
  {
   "cell_type": "code",
   "execution_count": 2,
   "id": "4be0b461-7000-4079-9489-b4e66a46ebf8",
   "metadata": {},
   "outputs": [
    {
     "name": "stdout",
     "output_type": "stream",
     "text": [
      "[1, 2, 3, 4, 5, 6, 7, 8]\n"
     ]
    }
   ],
   "source": [
    "# Write a code to merge two sorted lists into a single sorted list \n",
    "\n",
    "def merge_sorted_lists(list1, list2):\n",
    "    merged_list = []\n",
    "    i, j = 0, 0\n",
    "\n",
    "    while i < len(list1) and j < len(list2):\n",
    "        if list1[i] <= list2[j]:\n",
    "            merged_list.append(list1[i])\n",
    "            i += 1\n",
    "        else:\n",
    "            merged_list.append(list2[j])\n",
    "            j += 1\n",
    "\n",
    "    \n",
    "    while i < len(list1):\n",
    "        merged_list.append(list1[i])\n",
    "        i += 1\n",
    "\n",
    "    \n",
    "    while j < len(list2):\n",
    "        merged_list.append(list2[j])\n",
    "        j += 1\n",
    "\n",
    "    return merged_list\n",
    "\n",
    "\n",
    "list1 = [1, 3, 5, 7]\n",
    "list2 = [2, 4, 6, 8]\n",
    "print(merge_sorted_lists(list1, list2))\n"
   ]
  },
  {
   "cell_type": "code",
   "execution_count": 3,
   "id": "b3977732-2061-4d4a-8176-c362373e82f8",
   "metadata": {},
   "outputs": [
    {
     "name": "stdout",
     "output_type": "stream",
     "text": [
      "[4, 5]\n"
     ]
    }
   ],
   "source": [
    "# Implement a code to find the intersection of two given lists\n",
    "\n",
    "def intersect_lists(list1, list2):\n",
    "    set1 = set(list1)\n",
    "    set2 = set(list2)\n",
    "    intersection = set1 & set2\n",
    "    return list(intersection)\n",
    "list1 = [1, 2, 3, 4, 5]\n",
    "list2 = [4, 5, 6, 7, 8]\n",
    "print(intersect_lists(list1, list2)) "
   ]
  },
  {
   "cell_type": "code",
   "execution_count": 4,
   "id": "a198c73a-26c6-417a-86d6-e3f805ffe0ea",
   "metadata": {},
   "outputs": [
    {
     "name": "stdout",
     "output_type": "stream",
     "text": [
      "[1, 2, 3, 4, 5, 6, 7, 8]\n"
     ]
    }
   ],
   "source": [
    "# create a code to find the union of two lists without duplicates\n",
    "\n",
    "def union_lists(list1, list2):\n",
    "    \n",
    "    set1 = set(list1)\n",
    "    set2 = set(list2)\n",
    "    \n",
    "    \n",
    "    union = set1 | set2\n",
    "    \n",
    "    \n",
    "    return list(union)\n",
    "list1 = [1, 2, 3, 4, 5]\n",
    "list2 = [4, 5, 6, 7, 8]\n",
    "print(union_lists(list1, list2)) \n"
   ]
  },
  {
   "cell_type": "code",
   "execution_count": 6,
   "id": "4ecf0c6b-5da9-4be4-9e76-9a9915a0b0a7",
   "metadata": {},
   "outputs": [
    {
     "name": "stdout",
     "output_type": "stream",
     "text": [
      "[2, 4, 5, 1, 3]\n"
     ]
    }
   ],
   "source": [
    "# Write a code to shuffle a given list randomly without using any built-in shuffle functions\n",
    "import random\n",
    "\n",
    "def shuffle_list(lst):\n",
    "    n = len(lst)\n",
    "    for i in range(n - 1, 0, -1):\n",
    "        j = random.randint(0, i)\n",
    "        \n",
    "        \n",
    "        lst[i], lst[j] = lst[j], lst[i]\n",
    "\n",
    "my_list = [1, 2, 3, 4, 5]\n",
    "shuffle_list(my_list)\n",
    "print(my_list) \n"
   ]
  },
  {
   "cell_type": "code",
   "execution_count": 1,
   "id": "09aa9bea-3a59-4211-a698-1da5aa83b700",
   "metadata": {},
   "outputs": [
    {
     "name": "stdout",
     "output_type": "stream",
     "text": [
      "(4, 5)\n"
     ]
    }
   ],
   "source": [
    "# Write a code that makes two tuples as input  and return a new tuple containing elements that are common to both inputs tuples\n",
    "\n",
    "def common_elements(tuple1, tuple2):\n",
    "    common_set = set(tuple1) & set(tuple2)\n",
    "    return tuple(common_set)\n",
    "tuple1 = (1, 2, 3, 4, 5)\n",
    "tuple2 = (4, 5, 6, 7, 8)\n",
    "result = common_elements(tuple1, tuple2)\n",
    "print(result)\n"
   ]
  },
  {
   "cell_type": "code",
   "execution_count": 6,
   "id": "e07c6b5e-769a-4e2d-9c1e-c9cc0e740afc",
   "metadata": {},
   "outputs": [
    {
     "name": "stdin",
     "output_type": "stream",
     "text": [
      "Enter the first set of integers separated by commas:  1\n",
      "Enter the second set of integers separated by commas:  2\n"
     ]
    },
    {
     "name": "stdout",
     "output_type": "stream",
     "text": [
      "The intersection of the two sets is: set()\n"
     ]
    }
   ],
   "source": [
    "# Create a code that prompts the user to enter two sets of integers separated by commas. Then, Print the intersections of these two sets\n",
    "\n",
    "def get_set_from_input(prompt):\n",
    "    user_input = input(prompt)\n",
    "    \n",
    "    return set(map(int, user_input.split(',')))\n",
    "\n",
    "def main():\n",
    "    \n",
    "    set1 = get_set_from_input(\"Enter the first set of integers separated by commas: \")\n",
    "    set2 = get_set_from_input(\"Enter the second set of integers separated by commas: \")\n",
    "    \n",
    "    intersection = set1 & set2\n",
    "    \n",
    "\n",
    "    print(f\"The intersection of the two sets is: {intersection}\")\n",
    "\n",
    "if __name__ == \"__main__\":\n",
    "    main()\n"
   ]
  },
  {
   "cell_type": "code",
   "execution_count": 7,
   "id": "8ceada59-487c-4b9e-9948-1c49842118fa",
   "metadata": {},
   "outputs": [
    {
     "name": "stdout",
     "output_type": "stream",
     "text": [
      "(1, 2, 3, 4, 5, 6)\n"
     ]
    }
   ],
   "source": [
    "# Write a code to concatenate two tuples. The function should take two tuples as input and return a new tuple containing ele\f",
    "ments from\f",
    " both input tuples.\n",
    "\n",
    "def concatenate_tuples(tuple1, tuple2):\n",
    "    \n",
    "    return tuple1 + tuple2\n",
    "\n",
    "\n",
    "tuple1 = (1, 2, 3)\n",
    "tuple2 = (4, 5, 6)\n",
    "result = concatenate_tuples(tuple1, tuple2)\n",
    "print(result) \n"
   ]
  },
  {
   "cell_type": "code",
   "execution_count": 8,
   "id": "9ca2f6d2-2e7f-47c4-b7eb-01295425807c",
   "metadata": {},
   "outputs": [
    {
     "name": "stdin",
     "output_type": "stream",
     "text": [
      "Enter the first set of strings separated by commas:  apple,banana, frapes\n",
      "Enter the second set of strings separated by commas:  apple,mango\n"
     ]
    },
    {
     "name": "stdout",
     "output_type": "stream",
     "text": [
      "The elements in the first set but not in the second set are: {' frapes', 'banana'}\n"
     ]
    }
   ],
   "source": [
    "# Develop a code that prompts the user to input two sets of strings. Then print the elements that are present in the first set but not in the second set\n",
    "\n",
    "def get_set_from_input(prompt):\n",
    "    \n",
    "    user_input = input(prompt)\n",
    "    \n",
    "    \n",
    "    return set(user_input.split(','))\n",
    "\n",
    "def main():\n",
    "    \n",
    "    set1 = get_set_from_input(\"Enter the first set of strings separated by commas: \")\n",
    "    set2 = get_set_from_input(\"Enter the second set of strings separated by commas: \")\n",
    "    \n",
    "    \n",
    "    difference = set1 - set2\n",
    "    \n",
    "    \n",
    "    print(f\"The elements in the first set but not in the second set are: {difference}\")\n",
    "\n",
    "if __name__ == \"__main__\":\n",
    "    main()\n"
   ]
  },
  {
   "cell_type": "code",
   "execution_count": 9,
   "id": "20d19069-63ee-4b96-8e63-edf5c094a836",
   "metadata": {},
   "outputs": [
    {
     "name": "stdout",
     "output_type": "stream",
     "text": [
      "(30, 40, 50)\n"
     ]
    }
   ],
   "source": [
    "# Create a code that takes a tuple and two integers as input. The function should return a new tuple containing elements from the original tuple within the specified range of indices.\n",
    "\n",
    "def slice_tuple(original_tuple, start_index, end_index):\n",
    "    return original_tuple[start_index:end_index]\n",
    "\n",
    "original_tuple = (10, 20, 30, 40, 50, 60, 70)\n",
    "start_index = 2\n",
    "end_index = 5\n",
    "result = slice_tuple(original_tuple, start_index, end_index)\n",
    "print(result)  \n"
   ]
  },
  {
   "cell_type": "code",
   "execution_count": 1,
   "id": "df1b9e34-9ba8-41da-8e19-7b8f3fd13a4e",
   "metadata": {},
   "outputs": [
    {
     "name": "stdin",
     "output_type": "stream",
     "text": [
      "Enter the first set of characters:  a\n",
      "Enter the second set of characters:  a\n"
     ]
    },
    {
     "name": "stdout",
     "output_type": "stream",
     "text": [
      "The union of the two sets is: a\n"
     ]
    }
   ],
   "source": [
    "# Write a code that prompts the user to input two sets of characters. Then print the union of these two sets.\n",
    "\n",
    "input1 = input(\"Enter the first set of characters: \")\n",
    "input2 = input(\"Enter the second set of characters: \")\n",
    "\n",
    "set1 = set(input1)\n",
    "set2 = set(input2)\n",
    "\n",
    "union_set = set1.union(set2)\n",
    "print(\"The union of the two sets is:\", ''.join(sorted(union_set)))\n"
   ]
  },
  {
   "cell_type": "code",
   "execution_count": 2,
   "id": "b9a0c2c0-fd38-46d1-a476-807d8b28c7ca",
   "metadata": {},
   "outputs": [
    {
     "name": "stdout",
     "output_type": "stream",
     "text": [
      "The maximum value is: 25\n",
      "The minimum value is: -4\n"
     ]
    }
   ],
   "source": [
    "# Develop a code that takes a tuple of integers as input. The function should return the maximum and minimum values from the tuple using tuple unpacking.\n",
    "\n",
    "def find_max_min(values):\n",
    "    \n",
    "    max_value = max(values)\n",
    "    min_value = min(values)\n",
    "    \n",
    "    return max_value, min_value\n",
    "\n",
    "input_tuple = (10, 3, 25, 8, -4, 20)\n",
    "max_val, min_val = find_max_min(input_tuple)\n",
    "\n",
    "print(f\"The maximum value is: {max_val}\")\n",
    "print(f\"The minimum value is: {min_val}\")\n"
   ]
  },
  {
   "cell_type": "code",
   "execution_count": 3,
   "id": "604ba2cf-a1fb-43b9-8d4d-d0239707f135",
   "metadata": {},
   "outputs": [
    {
     "name": "stdout",
     "output_type": "stream",
     "text": [
      "Set 1: {1, 2, 3, 4, 5}\n",
      "Set 2: {4, 5, 6, 7, 8}\n",
      "Union of Set 1 and Set 2: {1, 2, 3, 4, 5, 6, 7, 8}\n",
      "Intersection of Set 1 and Set 2: {4, 5}\n",
      "Difference of Set 1 and Set 2 (Set 1 - Set 2): {1, 2, 3}\n"
     ]
    }
   ],
   "source": [
    "# Create a code that defines two sets of integers. Then print the union intersection and difference of these two sets.\n",
    "\n",
    "set1 = {1, 2, 3, 4, 5}\n",
    "set2 = {4, 5, 6, 7, 8}\n",
    "\n",
    "union_set = set1.union(set2)\n",
    "\n",
    "intersection_set = set1.intersection(set2)\n",
    "\n",
    "difference_set = set1.difference(set2)\n",
    "\n",
    "print(\"Set 1:\", set1)\n",
    "print(\"Set 2:\", set2)\n",
    "print(\"Union of Set 1 and Set 2:\", union_set)\n",
    "print(\"Intersection of Set 1 and Set 2:\", intersection_set)\n",
    "print(\"Difference of Set 1 and Set 2 (Set 1 - Set 2):\", difference_set)\n"
   ]
  },
  {
   "cell_type": "code",
   "execution_count": 4,
   "id": "6a43df10-7c75-4e8c-a8eb-bda70af77d12",
   "metadata": {},
   "outputs": [
    {
     "name": "stdout",
     "output_type": "stream",
     "text": [
      "The element 3 occurs 4 times in the tuple.\n"
     ]
    }
   ],
   "source": [
    "# Write a code that takes a tuple and an element as input. The function should return the count of occurrences of the given element in the tuple.\n",
    "\n",
    "def count_element_in_tuple(tpl, element):\n",
    "    count = tpl.count(element)\n",
    "    return count\n",
    "input_tuple = (1, 3, 7, 8, 3, 3, 2, 4, 3)\n",
    "element_to_count = 3\n",
    "occurrences = count_element_in_tuple(input_tuple, element_to_count)\n",
    "print(f\"The element {element_to_count} occurs {occurrences} times in the tuple.\")\n"
   ]
  },
  {
   "cell_type": "code",
   "execution_count": 5,
   "id": "67bfa5dc-7d64-43c3-ab99-19b5ad8dfcb7",
   "metadata": {},
   "outputs": [
    {
     "name": "stdin",
     "output_type": "stream",
     "text": [
      "Enter the first set of strings (separated by spaces):  abishe pratap singh\n",
      "Enter the second set of strings (separated by spaces):  abhishek sinmgh\n"
     ]
    },
    {
     "name": "stdout",
     "output_type": "stream",
     "text": [
      "The symmetric difference between the two sets is: {'abishe', 'pratap', 'singh', 'abhishek', 'sinmgh'}\n"
     ]
    }
   ],
   "source": [
    "# Develop a code that prompts the user to input two sets of strings. Then print the symmetric difference of these two sets.\n",
    "\n",
    "\n",
    "input1 = input(\"Enter the first set of strings (separated by spaces): \")\n",
    "input2 = input(\"Enter the second set of strings (separated by spaces): \")\n",
    "\n",
    "set1 = set(input1.split())\n",
    "set2 = set(input2.split())\n",
    "\n",
    "\n",
    "symmetric_difference_set = set1.symmetric_difference(set2)\n",
    "print(\"The symmetric difference between the two sets is:\", symmetric_difference_set)\n"
   ]
  },
  {
   "cell_type": "code",
   "execution_count": 2,
   "id": "a787bbfb-c979-4771-a735-3a8fae8bfbc7",
   "metadata": {},
   "outputs": [
    {
     "name": "stdin",
     "output_type": "stream",
     "text": [
      "Enter a list of words (separated by spaces):  abhishek pratap singh\n"
     ]
    },
    {
     "name": "stdout",
     "output_type": "stream",
     "text": [
      "Word frequency dictionary: {'abhishek': 1, 'pratap': 1, 'singh': 1}\n"
     ]
    }
   ],
   "source": [
    "# Write a code that takes a list of words as input and returns a dictionary where thew keys are uni\f",
    "que words and the values are the freq\f",
    "uencies of those words in the input list.\n",
    "\n",
    "\n",
    "def word_frequencies(words):\n",
    "    frequency_dict = {}\n",
    "\n",
    "    for word in words:\n",
    "        if word in frequency_dict:\n",
    "            frequency_dict[word] += 1\n",
    "        else:\n",
    "            frequency_dict[word] = 1\n",
    "\n",
    "    return frequency_dict\n",
    "input_words = input(\"Enter a list of words (separated by spaces): \").split()\n",
    "word_count_dict = word_frequencies(input_words)\n",
    "print(\"Word frequency dictionary:\", word_count_dict)\n"
   ]
  },
  {
   "cell_type": "code",
   "execution_count": 1,
   "id": "8c83a58c-d668-4a37-ae0d-76727aab47d0",
   "metadata": {},
   "outputs": [
    {
     "name": "stdout",
     "output_type": "stream",
     "text": [
      "Merged dictionary: {'a': 5, 'b': 13, 'c': 22, 'd': 9}\n"
     ]
    }
   ],
   "source": [
    "# Write a code that takes two dictionaries as input and merges them into a single dictionary. If there are common keys the values should be added together. \n",
    "\n",
    "def merge_dictionaries(dict1, dict2):\n",
    "    merged_dict = dict1.copy() \n",
    "\n",
    "    for key, value in dict2.items():\n",
    "        if key in merged_dict:\n",
    "            merged_dict[key] += value\n",
    "        else:\n",
    "            merged_dict[key] = value\n",
    "\n",
    "    return merged_dict\n",
    "\n",
    "dict1 = {'a': 5, 'b': 10, 'c': 15}\n",
    "dict2 = {'b': 3, 'c': 7, 'd': 9}\n",
    "\n",
    "merged_dict = merge_dictionaries(dict1, dict2)\n",
    "print(\"Merged dictionary:\", merged_dict)\n"
   ]
  },
  {
   "cell_type": "code",
   "execution_count": 3,
   "id": "06416189-6c99-4d8e-acec-601cf9a24d3e",
   "metadata": {},
   "outputs": [
    {
     "name": "stdout",
     "output_type": "stream",
     "text": [
      "42\n",
      "None\n"
     ]
    }
   ],
   "source": [
    "# Write a code to access a value in a nested dictionary. The function should take the dictionary and a list of  keys as input and return the corresponding value. If any of the keys do not exist in the dictionary, the function should return None\n",
    "\n",
    "\n",
    "def get_nested_value(d, keys):\n",
    "    current = d\n",
    "    for key in keys:\n",
    "        if isinstance(current, dict) and key in current:\n",
    "            current = current[key]\n",
    "        else:\n",
    "            return None\n",
    "    return current\n",
    "\n",
    "nested_dict = {\n",
    "    'a': {\n",
    "        'b': {\n",
    "            'c': 42\n",
    "        }\n",
    "    }\n",
    "}\n",
    "\n",
    "keys = ['a', 'b', 'c']\n",
    "result = get_nested_value(nested_dict, keys)\n",
    "print(result) \n",
    "\n",
    "keys = ['a', 'x', 'c']\n",
    "result = get_nested_value(nested_dict, keys)\n",
    "print(result) "
   ]
  },
  {
   "cell_type": "code",
   "execution_count": 4,
   "id": "720d221d-f7f5-44e1-8480-fd3c00e61629",
   "metadata": {},
   "outputs": [
    {
     "name": "stdout",
     "output_type": "stream",
     "text": [
      "Ascending: {'banana': 1, 'orange': 2, 'apple': 3}\n",
      "Descending: {'apple': 3, 'orange': 2, 'banana': 1}\n"
     ]
    }
   ],
   "source": [
    "# Write a code that takes a dictionary as input and returns a sorted version of it based on the values. You can choose whether to sort in ascending or descending order.\n",
    "\n",
    "def sort_dict_by_value(d, descending=False):\n",
    "    sorted_dict = dict(sorted(d.items(), key=lambda item: item[1], reverse=descending))\n",
    "    return sorted_dict\n",
    "\n",
    "my_dict = {'apple': 3, 'banana': 1, 'orange': 2}\n",
    "\n",
    "sorted_asc = sort_dict_by_value(my_dict)\n",
    "print(\"Ascending:\", sorted_asc) \n",
    "\n",
    "sorted_desc = sort_dict_by_value(my_dict, descending=True)\n",
    "print(\"Descending:\", sorted_desc)\n"
   ]
  },
  {
   "cell_type": "code",
   "execution_count": 5,
   "id": "b9bd975b-8cdd-4f77-b4a1-d0a249633145",
   "metadata": {},
   "outputs": [
    {
     "name": "stdout",
     "output_type": "stream",
     "text": [
      "{1: ['apple', 'orange'], 2: ['banana'], 3: ['grape']}\n"
     ]
    }
   ],
   "source": [
    "# Write a code that inverts a dictionary swapping keys and values. Ensure that the inverted dictionary correctly handles cases where multiple keys have the same value by storing the keys as a list in the inverted dictionary.\n",
    "\n",
    "def invert_dict(d):\n",
    "    inverted = {}\n",
    "    for key, value in d.items():\n",
    "        if value in inverted:\n",
    "            inverted[value].append(key)\n",
    "        else:\n",
    "            inverted[value] = [key]\n",
    "    return inverted\n",
    "\n",
    "my_dict = {'apple': 1, 'banana': 2, 'orange': 1, 'grape': 3}\n",
    "\n",
    "inverted_dict = invert_dict(my_dict)\n",
    "print(inverted_dict)\n"
   ]
  },
  {
   "cell_type": "code",
   "execution_count": null,
   "id": "da427ea3-201f-41c7-bd91-bb5474af7b6b",
   "metadata": {},
   "outputs": [],
   "source": []
  }
 ],
 "metadata": {
  "kernelspec": {
   "display_name": "Python 3 (ipykernel)",
   "language": "python",
   "name": "python3"
  },
  "language_info": {
   "codemirror_mode": {
    "name": "ipython",
    "version": 3
   },
   "file_extension": ".py",
   "mimetype": "text/x-python",
   "name": "python",
   "nbconvert_exporter": "python",
   "pygments_lexer": "ipython3",
   "version": "3.10.8"
  }
 },
 "nbformat": 4,
 "nbformat_minor": 5
}
